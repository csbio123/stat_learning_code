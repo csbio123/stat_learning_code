{
 "cells": [
  {
   "cell_type": "code",
   "execution_count": 1,
   "metadata": {},
   "outputs": [],
   "source": [
    "import pandas as pd"
   ]
  },
  {
   "cell_type": "code",
   "execution_count": 2,
   "metadata": {},
   "outputs": [],
   "source": [
    "import numpy as np \n",
    "from io import StringIO\n",
    "from typing import Dict\n",
    "from sklearn.ensemble import RandomForestRegressor\n",
    "import numpy as np\n",
    "import pandas as pd\n",
    "\n",
    "import matplotlib.pyplot as plt \n",
    "%matplotlib inline\n",
    "import seaborn as sns\n",
    "from sklearn.metrics import mean_squared_error"
   ]
  },
  {
   "cell_type": "code",
   "execution_count": 3,
   "metadata": {},
   "outputs": [],
   "source": [
    "def string_to_pandas(text):\n",
    "    stringio = StringIO(text[1])\n",
    "    df = pd.read_csv(stringio).drop('Unnamed: 0', axis=1)\n",
    "    return get_keys(text[0]), df\n",
    "\n",
    "def get_keys(x):\n",
    "    try:\n",
    "        name = os.path.basename(x)\n",
    "        return \"\".join([s for s in name if s.isdigit()])\n",
    "    except (IndexError, KeyError):\n",
    "        return '', ''\n",
    "    \n",
    "def concat(x):\n",
    "    train = x[1][0][1]\n",
    "    train[\"train\"] = 1\n",
    "    \n",
    "    val = x[1][1][1]\n",
    "    val[\"train\"] = 0\n",
    "    \n",
    "    train = pd.concat([train, gene_expression_train_bc.value], axis=1)\n",
    "    val = pd.concat([val, gene_expression_validation_bc.value], axis=1)\n",
    "\n",
    "    \n",
    "    return pd.concat([train, val], axis=0, ignore_index=True)    \n"
   ]
  },
  {
   "cell_type": "code",
   "execution_count": 4,
   "metadata": {},
   "outputs": [],
   "source": [
    "validation_rdd = sc.wholeTextFiles(\"gs://conrad-project/validation_prediction/spark_input_data/validation_combat_9_03_18/*\", minPartitions=500)\n",
    "training_rdd = sc.wholeTextFiles(\"gs://conrad-project/validation_prediction/spark_input_data/train_combat_9_03_18/*\", minPartitions=500)"
   ]
  },
  {
   "cell_type": "code",
   "execution_count": 5,
   "metadata": {},
   "outputs": [],
   "source": [
    "gene_expression_train = spark.read.option(\"header\", True).csv(\"gs://conrad-project/validation_prediction/spark_input_data/training_set_gene_expression.csv\").toPandas()\n",
    "gene_expression_validation = spark.read.option(\"header\", True).csv(\"gs://conrad-project/validation_prediction/spark_input_data/validation_set_gene_expression.csv\").toPandas()"
   ]
  },
  {
   "cell_type": "code",
   "execution_count": 6,
   "metadata": {},
   "outputs": [
    {
     "name": "stdout",
     "output_type": "stream",
     "text": [
      "4684\n",
      "4684\n"
     ]
    }
   ],
   "source": [
    "cols = [ \"gene_\" + c for c in gene_expression_train.columns.tolist()]\n",
    "cols[0] = \"name\"\n",
    "gene_expression_train.columns = cols\n",
    "print(len(set(cols)))\n",
    "\n",
    "cols = [ \"gene_\" + c for c in gene_expression_validation.columns.tolist()]\n",
    "cols[0] = \"name\"\n",
    "gene_expression_validation.columns = cols\n",
    "print(len(set(cols)))"
   ]
  },
  {
   "cell_type": "code",
   "execution_count": 7,
   "metadata": {},
   "outputs": [],
   "source": [
    "gene_expression_train_bc = sc.broadcast(gene_expression_train)\n",
    "gene_expression_validation_bc = sc.broadcast(gene_expression_validation)"
   ]
  },
  {
   "cell_type": "code",
   "execution_count": 8,
   "metadata": {},
   "outputs": [],
   "source": [
    "validation_rdd = validation_rdd.map(lambda x: string_to_pandas(x)).keyBy(lambda x: get_keys(x[0]))\n",
    "training_rdd = training_rdd.map(lambda x: string_to_pandas(x)).keyBy(lambda x: get_keys(x[0]))\n",
    "joined_rdd = training_rdd.join(validation_rdd, numPartitions=500).map(concat)\n"
   ]
  },
  {
   "cell_type": "code",
   "execution_count": 9,
   "metadata": {},
   "outputs": [],
   "source": [
    "test = validation_rdd.take(1)[0]"
   ]
  },
  {
   "cell_type": "code",
   "execution_count": 10,
   "metadata": {},
   "outputs": [],
   "source": [
    "t = joined_rdd.take(1)[0]"
   ]
  },
  {
   "cell_type": "code",
   "execution_count": 11,
   "metadata": {},
   "outputs": [],
   "source": [
    "def forecast(data, target, features, clf):\n",
    "\n",
    "    data = data.apply(pd.to_numeric, errors=\"ignore\")\n",
    "    data[target] = np.log(data[target])\n",
    "    if data.shape[0] < 10:\n",
    "        return []\n",
    "\n",
    "    data = data.reset_index(drop=True)\n",
    "    data_train = data[data[\"train\"] == 1]\n",
    "    data_test  =  data[(data[\"train\"] == 0)]\n",
    "\n",
    "    data_train = data_train.replace([np.inf, -np.inf], np.nan)\n",
    "    data_test = data_test.replace([np.inf, -np.inf], np.nan)\n",
    "    data_train = data_train.dropna(subset=features+[target])\n",
    "    data_test = data_test.dropna(subset=features+[target])\n",
    "    \n",
    "    \n",
    "    importances = []\n",
    "    if data_test.shape[0] > 0:\n",
    "        num_training = data_train.shape[0]\n",
    "        df = pd.get_dummies(pd.concat([data_train, data_test])[features])\n",
    "\n",
    "        X_train = df.iloc[:num_training, :]\n",
    "        X_test = df.iloc[num_training:, :]\n",
    "\n",
    "        y_train = data_train[target].values.ravel()\n",
    "        y_test = data_test[target].values.ravel()\n",
    "\n",
    "        clf.fit(X_train, y_train)\n",
    "        prediction = clf.predict(X_test)\n",
    "        data_test[\"prediction\"] = np.exp(prediction)\n",
    "        data_test[\"prediction_actual\"] = np.exp(y_test)\n",
    "        feature_imp = pd.Series(clf.feature_importances_)\n",
    "        feature_imp.index = X_test.columns\n",
    "\n",
    "        importances.append(feature_imp)\n",
    "        for r in range (0, 0):\n",
    "            np.random.shuffle(y_train)\n",
    "            clf.fit(X_train, y_train)\n",
    "            prediction = clf.predict(X_test)\n",
    "            feature_imp = pd.Series(clf.feature_importances_)\n",
    "            feature_imp.index = X_test.columns\n",
    "            importances.append(feature_imp)\n",
    "            data_test[\"prediction_{}\".format(r)] = np.exp(prediction)\n",
    "        return [data_test.filter(regex=\"prediction*\"), pd.DataFrame(importances)]\n",
    "    return []"
   ]
  },
  {
   "cell_type": "code",
   "execution_count": 12,
   "metadata": {},
   "outputs": [],
   "source": [
    "clf = RandomForestRegressor(n_estimators=500,  max_features='auto', max_leaf_nodes=None, bootstrap=True,\n",
    "                                oob_score=True, n_jobs=-1, random_state=None,\n",
    "                                verbose=0, warm_start=True)\n"
   ]
  },
  {
   "cell_type": "code",
   "execution_count": null,
   "metadata": {},
   "outputs": [],
   "source": []
  },
  {
   "cell_type": "code",
   "execution_count": 13,
   "metadata": {},
   "outputs": [],
   "source": [
    "test = joined_rdd.take(1)[0]\n",
    "features = test.drop(['BMI.catg', 'BMI.norm', 'name', 'train', 'Age.norm',\n",
    " 'PC1',\n",
    " 'PC2',\n",
    " 'gender'], axis=1).columns.tolist()"
   ]
  },
  {
   "cell_type": "code",
   "execution_count": 14,
   "metadata": {},
   "outputs": [],
   "source": [
    "forecast_rdd = joined_rdd.map(lambda x: forecast(x, \"BMI.norm\", features, clf))\n",
    "predictions = forecast_rdd.collect()"
   ]
  },
  {
   "cell_type": "code",
   "execution_count": 15,
   "metadata": {},
   "outputs": [],
   "source": [
    "results_pred = []\n",
    "importances = []\n",
    "for i, p in enumerate(predictions):\n",
    "    pred = p[0]\n",
    "    impor = p[1]\n",
    "    pred[\"imputation_set\"] = i\n",
    "    impor[\"imputation_set\"] = i\n",
    "    importances.append(impor)\n",
    "    results_pred.append(pred)\n",
    "    "
   ]
  },
  {
   "cell_type": "code",
   "execution_count": 16,
   "metadata": {},
   "outputs": [],
   "source": [
    "results_pred = pd.concat(results_pred)\n",
    "importances = pd.concat(importances)\n",
    "results_pred.to_csv(\"/home/tomi/results_pred.scv\", index=False)\n",
    "importances.to_csv(\"/home/tomi/importances.scv\", index=False)"
   ]
  },
  {
   "cell_type": "code",
   "execution_count": 17,
   "metadata": {},
   "outputs": [
    {
     "data": {
      "text/plain": [
       "61.36261379346617"
      ]
     },
     "execution_count": 17,
     "metadata": {},
     "output_type": "execute_result"
    }
   ],
   "source": [
    "\n",
    "mean_squared_error(results_pred[\"prediction_actual\"], results_pred[\"prediction\"])\n",
    "\n",
    "                   "
   ]
  },
  {
   "cell_type": "code",
   "execution_count": 19,
   "metadata": {},
   "outputs": [],
   "source": [
    "importances_median = pd.DataFrame(importances.drop(\"imputation_set\", axis=1).mean(), columns=\n",
    "                                 ['value'])\n",
    "importances_median = importances_median.sort_values(\"value\", ascending=False)\n",
    "importances_median['rank'] = range(1, importances_median.shape[0]+1)\n",
    "importances_median['decile'] = np.digitize(importances_median['rank'], np.percentile(importances_median['rank'], np.arange(0, 100, 10)))\n"
   ]
  },
  {
   "cell_type": "code",
   "execution_count": 28,
   "metadata": {},
   "outputs": [],
   "source": [
    "importances_median[importances_median[\"decile\"]<4].to_csv(\"/repos/main/test.csv\")"
   ]
  },
  {
   "cell_type": "code",
   "execution_count": 140,
   "metadata": {},
   "outputs": [],
   "source": [
    "groups_deciles = importances_median.groupby(\"decile\")"
   ]
  },
  {
   "cell_type": "code",
   "execution_count": 141,
   "metadata": {},
   "outputs": [],
   "source": [
    "predictions_by_groups = []\n",
    "for g in groups_deciles:\n",
    "    genes_to_test = g[1].index.tolist()\n",
    "    results_pred = run_prediction(joined_rdd, genes_to_test, clf)\n",
    "    results_pred[\"decile\"] = g[0]\n",
    "    predictions_by_groups.append(results_pred)\n",
    "predictions_by_groups = pd.concat(predictions_by_groups)\n",
    "predictions_by_groups[\"error\"] = ((predictions_by_groups[\"prediction_actual\"] - predictions_by_groups[\"prediction\"]))"
   ]
  },
  {
   "cell_type": "code",
   "execution_count": 142,
   "metadata": {},
   "outputs": [],
   "source": [
    "from sklearn import metrics"
   ]
  },
  {
   "cell_type": "code",
   "execution_count": 143,
   "metadata": {},
   "outputs": [
    {
     "data": {
      "text/plain": [
       "<matplotlib.axes._subplots.AxesSubplot at 0x7fc08e4d0780>"
      ]
     },
     "execution_count": 143,
     "metadata": {},
     "output_type": "execute_result"
    },
    {
     "data": {
      "image/png": "[encoded data removed]",
      "text/plain": [
       "<Figure size 432x288 with 1 Axes>"
      ]
     },
     "metadata": {},
     "output_type": "display_data"
    }
   ],
   "source": [
    "predictions_by_groups.groupby([\"decile\"]).apply(lambda x: metrics.r2_score(x[\"prediction_actual\"],x[\"prediction\"])).plot()"
   ]
  },
  {
   "cell_type": "code",
   "execution_count": 144,
   "metadata": {},
   "outputs": [
    {
     "data": {
      "text/plain": [
       "<matplotlib.axes._subplots.AxesSubplot at 0x7fc08da6c080>"
      ]
     },
     "execution_count": 144,
     "metadata": {},
     "output_type": "execute_result"
    },
    {
     "data": {
      "image/png": "[encoded data removed]",
      "text/plain": [
       "<Figure size 432x288 with 1 Axes>"
      ]
     },
     "metadata": {},
     "output_type": "display_data"
    }
   ],
   "source": [
    "predictions_by_groups.groupby([\"decile\"]).apply(lambda x: metrics.median_absolute_error(x[\"prediction_actual\"],x[\"prediction\"])).plot()"
   ]
  },
  {
   "cell_type": "code",
   "execution_count": 145,
   "metadata": {},
   "outputs": [
    {
     "data": {
      "text/plain": [
       "<matplotlib.axes._subplots.AxesSubplot at 0x7fc08e822cf8>"
      ]
     },
     "execution_count": 145,
     "metadata": {},
     "output_type": "execute_result"
    },
    {
     "data": {
      "image/png": "[encoded data removed]",
      "text/plain": [
       "<Figure size 432x288 with 1 Axes>"
      ]
     },
     "metadata": {},
     "output_type": "display_data"
    }
   ],
   "source": [
    "predictions_by_groups.groupby([\"decile\"]).apply(lambda x: metrics.mean_squared_log_error(x[\"prediction_actual\"],x[\"prediction\"])).plot()"
   ]
  },
  {
   "cell_type": "code",
   "execution_count": 147,
   "metadata": {},
   "outputs": [
    {
     "data": {
      "text/plain": [
       "<matplotlib.axes._subplots.AxesSubplot at 0x7fc08daadf98>"
      ]
     },
     "execution_count": 147,
     "metadata": {},
     "output_type": "execute_result"
    },
    {
     "data": {
      "image/png": "[encoded data removed]",
      "text/plain": [
       "<Figure size 432x288 with 1 Axes>"
      ]
     },
     "metadata": {},
     "output_type": "display_data"
    }
   ],
   "source": [
    "predictions_by_groups.groupby([\"decile\"]).apply(lambda x: metrics.explained_variance_score(x[\"prediction_actual\"],x[\"prediction\"])).plot()"
   ]
  },
  {
   "cell_type": "code",
   "execution_count": null,
   "metadata": {},
   "outputs": [],
   "source": []
  },
  {
   "cell_type": "markdown",
   "metadata": {},
   "source": [
    "groups_deciles = [g[1]for g in importances_rank_med.groupby(\"decile\")]\n",
    "groups_to_test = []\n",
    "predictions_by_groups = []\n",
    "\n",
    "for i in range(0,len(groups_deciles)):\n",
    "    \n",
    "    genes_to_test = []\n",
    "    for j in range(0, i+1):\n",
    "        genes_to_test.append(groups_deciles[j])\n",
    "    genes_to_test = pd.concat(genes_to_test).index.tolist()\n",
    "    \n",
    "    forecast_rdd = joined_rdd.map(lambda x: forecast(x, \"BMI.norm\", genes_to_test, clf))\n",
    "    pred = forecast_rdd.collect()\n",
    "    results_pred = []\n",
    "    for k, p in enumerate(pred):\n",
    "        pred = p[0]\n",
    "        pred[\"imputation_set\"] = k\n",
    "        results_pred.append(pred)\n",
    "    results_pred = pd.concat(results_pred)\n",
    "    results_pred[\"decile\"] = i\n",
    "    predictions_by_groups.append(results_pred)\n",
    "    \n",
    "predictions_by_groups = pd.concat(predictions_by_groups)\n",
    "predictions_by_groups[\"error\"] = ((predictions_by_groups[\"prediction_actual\"] - predictions_by_groups[\"prediction\"]))\n"
   ]
  },
  {
   "cell_type": "markdown",
   "metadata": {},
   "source": [
    "sns.boxplot(x=\"decile\", y=\"error\", data=predictions_by_groups)"
   ]
  },
  {
   "cell_type": "raw",
   "metadata": {},
   "source": [
    "predictions_by_groups.groupby([\"decile\"]).apply(lambda x: mean_squared_error(x[\"prediction_actual\"],x[\"prediction\"])).plot()"
   ]
  },
  {
   "cell_type": "code",
   "execution_count": 42,
   "metadata": {},
   "outputs": [],
   "source": [
    "best_genes = pd.concat([groups_deciles.get_group(9), groups_deciles.get_group(10)]).index.tolist()"
   ]
  },
  {
   "cell_type": "code",
   "execution_count": 40,
   "metadata": {},
   "outputs": [
    {
     "name": "stdout",
     "output_type": "stream",
     "text": [
      "[4 0]\n",
      "[6 0]\n",
      "[2 1]\n",
      "[5 3]\n",
      "[5 0]\n",
      "[1 4]\n",
      "[1 0]\n",
      "[2 0]\n",
      "[2 4]\n",
      "[2 6]\n",
      "[2 4]\n"
     ]
    }
   ],
   "source": [
    "predictions_by_groups = []\n",
    "for it in range(0,11):\n",
    "    groups_to_test = []\n",
    "    \n",
    "    random_g = np.random.choice(7, 2, replace=False)\n",
    "    print(random_g)\n",
    "    g1 = groups_deciles.get_group(random_g[0]+1)\n",
    "    g2 = groups_deciles.get_group(random_g[1]+1)\n",
    "    g_cmbd = pd.concat([g1, g2]).index.tolist()\n",
    "    if(it == 10):   \n",
    "        g_cmbd = best_genes\n",
    "    forecast_rdd = joined_rdd.map(lambda x: forecast(x, \"BMI.norm\", g_cmbd, clf))\n",
    "    pred = forecast_rdd.collect()\n",
    "    results_pred = []\n",
    "    for k, p in enumerate(pred):\n",
    "        pred = p[0]\n",
    "        pred[\"imputation_set\"] = k\n",
    "        results_pred.append(pred)\n",
    "    results_pred = pd.concat(results_pred)\n",
    "    results_pred[\"iteration\"] = it\n",
    "    predictions_by_groups.append(results_pred)\n",
    "    \n",
    "predictions_by_groups = pd.concat(predictions_by_groups)\n",
    "predictions_by_groups[\"error\"] = ((predictions_by_groups[\"prediction_actual\"] - predictions_by_groups[\"prediction\"]))\n",
    "predictions_by_groups[\"error_abs\"] = np.abs(predictions_by_groups[\"error\"])"
   ]
  },
  {
   "cell_type": "code",
   "execution_count": 44,
   "metadata": {},
   "outputs": [
    {
     "data": {
      "text/plain": [
       "<matplotlib.axes._subplots.AxesSubplot at 0x7fd186d927f0>"
      ]
     },
     "execution_count": 44,
     "metadata": {},
     "output_type": "execute_result"
    },
    {
     "data": {
      "image/png": "[encoded data removed]",
      "text/plain": [
       "<Figure size 432x288 with 1 Axes>"
      ]
     },
     "metadata": {},
     "output_type": "display_data"
    }
   ],
   "source": [
    "predictions_by_groups.groupby([\"iteration\"]).apply(lambda x: mean_squared_error(x[\"prediction_actual\"],x[\"prediction\"])).plot()\n"
   ]
  },
  {
   "cell_type": "code",
   "execution_count": 148,
   "metadata": {},
   "outputs": [],
   "source": [
    "def run_prediction(joined_rdd, g_cmbd, clf):\n",
    "    forecast_rdd = joined_rdd.map(lambda x: forecast(x, \"BMI.norm\", g_cmbd, clf))\n",
    "    pred = forecast_rdd.collect()\n",
    "    results_pred = []\n",
    "    for k, p in enumerate(pred):\n",
    "        pred = p[0]\n",
    "        pred[\"imputation_set\"] = k\n",
    "        results_pred.append(pred)\n",
    "    results_pred = pd.concat(results_pred)\n",
    "    results_pred[\"error\"] = ((results_pred[\"prediction_actual\"] - results_pred[\"prediction\"]))\n",
    "    results_pred[\"error_abs\"] = np.abs(results_pred[\"error\"])\n",
    "    return results_pred"
   ]
  },
  {
   "cell_type": "code",
   "execution_count": null,
   "metadata": {},
   "outputs": [],
   "source": []
  },
  {
   "cell_type": "code",
   "execution_count": null,
   "metadata": {},
   "outputs": [
    {
     "name": "stdout",
     "output_type": "stream",
     "text": [
      "top deciles: [0 1]\n",
      "other deciles: [ 2  3  4  5  6  7  8  9 10]\n",
      "Random deciles: [10  3]\n",
      "Random deciles: [9 3]\n",
      "Random deciles: [2 3]\n",
      "Random deciles: [ 9 10]\n",
      "Random deciles: [10  9]\n",
      "Random deciles: [10  4]\n",
      "Random deciles: [6 5]\n",
      "Random deciles: [4 2]\n",
      "Random deciles: [9 3]\n",
      "Random deciles: [2 6]\n",
      "Random deciles: [2 6 3]\n",
      "Random deciles: [2 4 9]\n",
      "Random deciles: [9 8 7]\n",
      "Random deciles: [ 3  6 10]\n",
      "Random deciles: [2 8 5]\n",
      "Random deciles: [9 5 2]\n"
     ]
    }
   ],
   "source": [
    "predictions_by_decile = []\n",
    "for num_deciles in range(2,4):\n",
    "    predictions_list = []\n",
    "    top_i_deciles_start = 0\n",
    "    top_i_deciles = np.array(range(top_i_deciles_start, 2))\n",
    "    bad_i_deciles = np.array(range(2, 11))\n",
    "    print(\"top deciles: {}\".format(top_i_deciles))\n",
    "    print(\"other deciles: {}\".format(bad_i_deciles))\n",
    "\n",
    "    top_i_deciles_genes = importances_median['decile'].isin(top_i_deciles).index.tolist()\n",
    "    results = run_prediction(joined_rdd, top_i_deciles_genes, clf)\n",
    "    results['type'] = \"best\"\n",
    "    predictions_list.append(results)\n",
    "\n",
    "    for it in range(0,10):\n",
    "        random_g = np.random.choice(bad_i_deciles, num_deciles, replace=False)\n",
    "        print(\"Random deciles: {}\".format(random_g))\n",
    "        random_decile_genes = importances_median['decile'].isin(random_g).index.tolist()\n",
    "        results = run_prediction(joined_rdd, random_decile_genes, clf)\n",
    "        results['type'] = it\n",
    "        predictions_list.append(results)\n",
    "    \n",
    "    predictions_list = pd.concat(predictions_list)\n",
    "    predictions_list['num_deciles'] = num_deciles\n",
    "    predictions_by_decile.append(predictions_list)\n",
    "predictions_by_decile = pd.concat(predictions_by_decile)"
   ]
  },
  {
   "cell_type": "code",
   "execution_count": 188,
   "metadata": {},
   "outputs": [],
   "source": [
    "bla = predictions_by_decile.groupby([\"num_deciles\", 'type']).apply(lambda x: metrics.explained_variance_score(x[\"prediction_actual\"],x[\"prediction\"])).reset_index()"
   ]
  },
  {
   "cell_type": "code",
   "execution_count": 189,
   "metadata": {},
   "outputs": [],
   "source": [
    "bla = bla.set_index([\"num_deciles\", 'type'])\n",
    "bla.columns = ['score']"
   ]
  },
  {
   "cell_type": "code",
   "execution_count": 197,
   "metadata": {},
   "outputs": [
    {
     "data": {
      "text/html": [
       "<div>\n",
       "<style scoped>\n",
       "    .dataframe tbody tr th:only-of-type {\n",
       "        vertical-align: middle;\n",
       "    }\n",
       "\n",
       "    .dataframe tbody tr th {\n",
       "        vertical-align: top;\n",
       "    }\n",
       "\n",
       "    .dataframe thead th {\n",
       "        text-align: right;\n",
       "    }\n",
       "</style>\n",
       "<table border=\"1\" class=\"dataframe\">\n",
       "  <thead>\n",
       "    <tr style=\"text-align: right;\">\n",
       "      <th></th>\n",
       "      <th></th>\n",
       "      <th>score</th>\n",
       "    </tr>\n",
       "    <tr>\n",
       "      <th>num_deciles</th>\n",
       "      <th>type</th>\n",
       "      <th></th>\n",
       "    </tr>\n",
       "  </thead>\n",
       "  <tbody>\n",
       "    <tr>\n",
       "      <th rowspan=\"11\" valign=\"top\">2</th>\n",
       "      <th>0</th>\n",
       "      <td>-0.046327</td>\n",
       "    </tr>\n",
       "    <tr>\n",
       "      <th>1</th>\n",
       "      <td>-0.042494</td>\n",
       "    </tr>\n",
       "    <tr>\n",
       "      <th>2</th>\n",
       "      <td>-0.035827</td>\n",
       "    </tr>\n",
       "    <tr>\n",
       "      <th>3</th>\n",
       "      <td>-0.036463</td>\n",
       "    </tr>\n",
       "    <tr>\n",
       "      <th>4</th>\n",
       "      <td>-0.042674</td>\n",
       "    </tr>\n",
       "    <tr>\n",
       "      <th>5</th>\n",
       "      <td>-0.036258</td>\n",
       "    </tr>\n",
       "    <tr>\n",
       "      <th>6</th>\n",
       "      <td>-0.039057</td>\n",
       "    </tr>\n",
       "    <tr>\n",
       "      <th>7</th>\n",
       "      <td>-0.039993</td>\n",
       "    </tr>\n",
       "    <tr>\n",
       "      <th>8</th>\n",
       "      <td>-0.043157</td>\n",
       "    </tr>\n",
       "    <tr>\n",
       "      <th>9</th>\n",
       "      <td>-0.055428</td>\n",
       "    </tr>\n",
       "    <tr>\n",
       "      <th>best</th>\n",
       "      <td>-0.062989</td>\n",
       "    </tr>\n",
       "    <tr>\n",
       "      <th rowspan=\"11\" valign=\"top\">3</th>\n",
       "      <th>0</th>\n",
       "      <td>-0.039396</td>\n",
       "    </tr>\n",
       "    <tr>\n",
       "      <th>1</th>\n",
       "      <td>-0.043917</td>\n",
       "    </tr>\n",
       "    <tr>\n",
       "      <th>2</th>\n",
       "      <td>-0.040108</td>\n",
       "    </tr>\n",
       "    <tr>\n",
       "      <th>3</th>\n",
       "      <td>-0.033506</td>\n",
       "    </tr>\n",
       "    <tr>\n",
       "      <th>4</th>\n",
       "      <td>-0.038690</td>\n",
       "    </tr>\n",
       "    <tr>\n",
       "      <th>5</th>\n",
       "      <td>-0.038824</td>\n",
       "    </tr>\n",
       "    <tr>\n",
       "      <th>6</th>\n",
       "      <td>-0.042444</td>\n",
       "    </tr>\n",
       "    <tr>\n",
       "      <th>7</th>\n",
       "      <td>-0.034694</td>\n",
       "    </tr>\n",
       "    <tr>\n",
       "      <th>8</th>\n",
       "      <td>-0.038884</td>\n",
       "    </tr>\n",
       "    <tr>\n",
       "      <th>9</th>\n",
       "      <td>-0.034848</td>\n",
       "    </tr>\n",
       "    <tr>\n",
       "      <th>best</th>\n",
       "      <td>-0.040336</td>\n",
       "    </tr>\n",
       "  </tbody>\n",
       "</table>\n",
       "</div>"
      ],
      "text/plain": [
       "                     score\n",
       "num_deciles type          \n",
       "2           0    -0.046327\n",
       "            1    -0.042494\n",
       "            2    -0.035827\n",
       "            3    -0.036463\n",
       "            4    -0.042674\n",
       "            5    -0.036258\n",
       "            6    -0.039057\n",
       "            7    -0.039993\n",
       "            8    -0.043157\n",
       "            9    -0.055428\n",
       "            best -0.062989\n",
       "3           0    -0.039396\n",
       "            1    -0.043917\n",
       "            2    -0.040108\n",
       "            3    -0.033506\n",
       "            4    -0.038690\n",
       "            5    -0.038824\n",
       "            6    -0.042444\n",
       "            7    -0.034694\n",
       "            8    -0.038884\n",
       "            9    -0.034848\n",
       "            best -0.040336"
      ]
     },
     "execution_count": 197,
     "metadata": {},
     "output_type": "execute_result"
    }
   ],
   "source": [
    "bla"
   ]
  },
  {
   "cell_type": "code",
   "execution_count": null,
   "metadata": {},
   "outputs": [],
   "source": []
  }
 ],
 "metadata": {
  "kernelspec": {
   "display_name": "Python 3",
   "language": "python",
   "name": "python3"
  },
  "language_info": {
   "codemirror_mode": {
    "name": "ipython",
    "version": 3
   },
   "file_extension": ".py",
   "mimetype": "text/x-python",
   "name": "python",
   "nbconvert_exporter": "python",
   "pygments_lexer": "ipython3",
   "version": "3.6.5"
  }
 },
 "nbformat": 4,
 "nbformat_minor": 2
}
