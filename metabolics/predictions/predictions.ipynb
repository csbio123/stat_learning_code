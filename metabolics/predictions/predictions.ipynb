{
 "cells": [
  {
   "cell_type": "code",
   "execution_count": 319,
   "metadata": {},
   "outputs": [],
   "source": [
    "import pandas as pd"
   ]
  },
  {
   "cell_type": "code",
   "execution_count": 343,
   "metadata": {},
   "outputs": [],
   "source": [
    "import numpy as np \n",
    "from io import StringIO\n",
    "from typing import Dict\n",
    "from sklearn.ensemble import RandomForestRegressor\n",
    "import numpy as np\n",
    "import pandas as pd\n",
    "\n",
    "import matplotlib \n",
    "%matplotlib inline\n",
    "import seaborn as sns\n",
    "from sklearn.metrics import mean_squared_error"
   ]
  },
  {
   "cell_type": "code",
   "execution_count": 321,
   "metadata": {},
   "outputs": [],
   "source": [
    "def string_to_pandas(text):\n",
    "    stringio = StringIO(text[1])\n",
    "    df = pd.read_csv(stringio).drop('Unnamed: 0', axis=1)\n",
    "    return get_keys(text[0]), df\n",
    "\n",
    "def get_keys(x):\n",
    "    try:\n",
    "        name = os.path.basename(x)\n",
    "        return \"\".join([s for s in name if s.isdigit()])\n",
    "    except (IndexError, KeyError):\n",
    "        return '', ''\n",
    "    \n",
    "def concat(x):\n",
    "    train = x[1][0][1]\n",
    "    train[\"train\"] = 1\n",
    "    \n",
    "    val = x[1][1][1]\n",
    "    val[\"train\"] = 0\n",
    "    \n",
    "    train = pd.concat([train, gene_expression_train_bc.value], axis=1)\n",
    "    val = pd.concat([val, gene_expression_validation_bc.value], axis=1)\n",
    "\n",
    "    \n",
    "    return pd.concat([train, val], axis=0, ignore_index=True)    \n"
   ]
  },
  {
   "cell_type": "code",
   "execution_count": 4,
   "metadata": {},
   "outputs": [],
   "source": [
    "validation_rdd = sc.wholeTextFiles(\"gs://conrad-project/validation_prediction/spark_input_data/validation_combat_9_03_18/*\", minPartitions=500)\n",
    "training_rdd = sc.wholeTextFiles(\"gs://conrad-project/validation_prediction/spark_input_data/train_combat_9_03_18/*\", minPartitions=500)"
   ]
  },
  {
   "cell_type": "code",
   "execution_count": 5,
   "metadata": {},
   "outputs": [],
   "source": [
    "gene_expression_train = spark.read.option(\"header\", True).csv(\"gs://conrad-project/validation_prediction/spark_input_data/training_set_gene_expression.csv\").toPandas()\n",
    "gene_expression_validation = spark.read.option(\"header\", True).csv(\"gs://conrad-project/validation_prediction/spark_input_data/validation_set_gene_expression.csv\").toPandas()"
   ]
  },
  {
   "cell_type": "code",
   "execution_count": 6,
   "metadata": {},
   "outputs": [
    {
     "name": "stdout",
     "output_type": "stream",
     "text": [
      "4684\n",
      "4684\n"
     ]
    }
   ],
   "source": [
    "cols = [ \"gene_\" + c for c in gene_expression_train.columns.tolist()]\n",
    "cols[0] = \"name\"\n",
    "gene_expression_train.columns = cols\n",
    "print(len(set(cols)))\n",
    "\n",
    "cols = [ \"gene_\" + c for c in gene_expression_validation.columns.tolist()]\n",
    "cols[0] = \"name\"\n",
    "gene_expression_validation.columns = cols\n",
    "print(len(set(cols)))"
   ]
  },
  {
   "cell_type": "code",
   "execution_count": 7,
   "metadata": {},
   "outputs": [],
   "source": [
    "gene_expression_train_bc = sc.broadcast(gene_expression_train)\n",
    "gene_expression_validation_bc = sc.broadcast(gene_expression_validation)"
   ]
  },
  {
   "cell_type": "code",
   "execution_count": 8,
   "metadata": {},
   "outputs": [],
   "source": [
    "validation_rdd = validation_rdd.map(lambda x: string_to_pandas(x)).keyBy(lambda x: get_keys(x[0]))\n",
    "training_rdd = training_rdd.map(lambda x: string_to_pandas(x)).keyBy(lambda x: get_keys(x[0]))\n",
    "joined_rdd = training_rdd.join(validation_rdd, numPartitions=500).map(concat)\n"
   ]
  },
  {
   "cell_type": "code",
   "execution_count": 9,
   "metadata": {},
   "outputs": [],
   "source": [
    "test = validation_rdd.take(1)[0]"
   ]
  },
  {
   "cell_type": "code",
   "execution_count": 10,
   "metadata": {},
   "outputs": [],
   "source": [
    "t = joined_rdd.take(1)[0]"
   ]
  },
  {
   "cell_type": "code",
   "execution_count": 228,
   "metadata": {},
   "outputs": [],
   "source": [
    "def forecast(data, target, features, clf):\n",
    "\n",
    "    data = data.apply(pd.to_numeric, errors=\"ignore\")\n",
    "    data[target] = np.log(data[target])\n",
    "    if data.shape[0] < 10:\n",
    "        return []\n",
    "\n",
    "    data = data.reset_index(drop=True)\n",
    "    data_train = data[data[\"train\"] == 1]\n",
    "    data_test  =  data[(data[\"train\"] == 0)]\n",
    "\n",
    "    data_train = data_train.replace([np.inf, -np.inf], np.nan)\n",
    "    data_test = data_test.replace([np.inf, -np.inf], np.nan)\n",
    "    data_train = data_train.dropna(subset=features+[target])\n",
    "    data_test = data_test.dropna(subset=features+[target])\n",
    "    \n",
    "    \n",
    "    importances = []\n",
    "    if data_test.shape[0] > 0:\n",
    "        num_training = data_train.shape[0]\n",
    "        df = pd.get_dummies(pd.concat([data_train, data_test])[features])\n",
    "\n",
    "        X_train = df.iloc[:num_training, :]\n",
    "        X_test = df.iloc[num_training:, :]\n",
    "\n",
    "        y_train = data_train[target].values.ravel()\n",
    "        y_test = data_test[target].values.ravel()\n",
    "\n",
    "        clf.fit(X_train, y_train)\n",
    "        prediction = clf.predict(X_test)\n",
    "        data_test[\"prediction\"] = np.exp(prediction)\n",
    "        data_test[\"prediction_actual\"] = np.exp(y_test)\n",
    "        feature_imp = pd.Series(clf.feature_importances_)\n",
    "        feature_imp.index = X_test.columns\n",
    "\n",
    "        importances.append(feature_imp)\n",
    "        for r in range (0, 0):\n",
    "            np.random.shuffle(y_train)\n",
    "            clf.fit(X_train, y_train)\n",
    "            prediction = clf.predict(X_test)\n",
    "            feature_imp = pd.Series(clf.feature_importances_)\n",
    "            feature_imp.index = X_test.columns\n",
    "            importances.append(feature_imp)\n",
    "            data_test[\"prediction_{}\".format(r)] = np.exp(prediction)\n",
    "        return [data_test.filter(regex=\"prediction*\"), pd.DataFrame(importances)]\n",
    "    return []"
   ]
  },
  {
   "cell_type": "code",
   "execution_count": 229,
   "metadata": {},
   "outputs": [],
   "source": [
    "clf = RandomForestRegressor(n_estimators=100, criterion='mse', max_depth=None, min_samples_split=2,\n",
    "                                min_samples_leaf=1,\n",
    "                                min_weight_fraction_leaf=0.0, max_features='auto', max_leaf_nodes=None, bootstrap=True,\n",
    "                                oob_score=True, n_jobs=-1, random_state=None,\n",
    "                                verbose=0, warm_start=False)\n"
   ]
  },
  {
   "cell_type": "code",
   "execution_count": null,
   "metadata": {},
   "outputs": [],
   "source": []
  },
  {
   "cell_type": "code",
   "execution_count": 230,
   "metadata": {},
   "outputs": [],
   "source": [
    "test = joined_rdd.take(1)[0]\n",
    "features = test.drop(['BMI.catg', 'BMI.norm', 'name', 'train'], axis=1).columns.tolist()"
   ]
  },
  {
   "cell_type": "code",
   "execution_count": 231,
   "metadata": {},
   "outputs": [],
   "source": [
    "forecast_rdd = joined_rdd.map(lambda x: forecast(x, \"BMI.norm\", features, clf))\n",
    "predictions = forecast_rdd.collect()"
   ]
  },
  {
   "cell_type": "code",
   "execution_count": 232,
   "metadata": {},
   "outputs": [],
   "source": [
    "results_pred = []\n",
    "importances = []\n",
    "for i, p in enumerate(predictions):\n",
    "    pred = p[0]\n",
    "    impor = p[1]\n",
    "    pred[\"imputation_set\"] = i\n",
    "    impor[\"imputation_set\"] = i\n",
    "    importances.append(impor)\n",
    "    results_pred.append(pred)\n",
    "    "
   ]
  },
  {
   "cell_type": "code",
   "execution_count": 234,
   "metadata": {},
   "outputs": [],
   "source": [
    "results_pred = pd.concat(results_pred)\n",
    "importances = pd.concat(importances)\n",
    "results_pred.to_csv(\"/home/tomi/results_pred.scv\", index=False)\n",
    "importances.to_csv(\"/home/tomi/importances.scv\", index=False)"
   ]
  },
  {
   "cell_type": "code",
   "execution_count": 317,
   "metadata": {},
   "outputs": [
    {
     "data": {
      "text/plain": [
       "62.155366794252984"
      ]
     },
     "execution_count": 317,
     "metadata": {},
     "output_type": "execute_result"
    }
   ],
   "source": [
    "\n",
    "mean_squared_error(results_pred[\"prediction_actual\"], results_pred[\"prediction\"])\n",
    "\n",
    "                   "
   ]
  },
  {
   "cell_type": "code",
   "execution_count": 235,
   "metadata": {},
   "outputs": [],
   "source": [
    "importances = importances.set_index([\"imputation_set\"])\n",
    "importances_rank = importances.apply(lambda x: np.argsort(x), axis=1)"
   ]
  },
  {
   "cell_type": "code",
   "execution_count": 309,
   "metadata": {},
   "outputs": [],
   "source": [
    "importances_rank_med = importances_rank.max(axis=0)#.sort_values()\n",
    "inds = np.digitize(importances_rank_med, np.percentile(importances_rank_med, np.arange(0, 100, 10)))\n",
    "inds = pd.Series(inds)\n",
    "inds.index = importances_rank_med.index\n",
    "importances_rank_med = pd.concat([importances_rank_med, inds],axis=1)\n",
    "importances_rank_med.columns = [\"average_rank\", \"decile\"]"
   ]
  },
  {
   "cell_type": "code",
   "execution_count": 352,
   "metadata": {},
   "outputs": [],
   "source": [
    "groups_deciles = importances_rank_med.groupby(\"decile\")"
   ]
  },
  {
   "cell_type": "code",
   "execution_count": null,
   "metadata": {},
   "outputs": [],
   "source": [
    "predictions_by_groups = []\n",
    "for g in groups_deciles:\n",
    "    genes_to_test = g[1].index.tolist()\n",
    "    forecast_rdd = joined_rdd.map(lambda x: forecast(x, \"BMI.norm\", genes_to_test, clf))\n",
    "    pred = forecast_rdd.collect()\n",
    "    results_pred = []\n",
    "    for i, p in enumerate(pred):\n",
    "        pred = p[0]\n",
    "        pred[\"imputation_set\"] = i\n",
    "        results_pred.append(pred)\n",
    "    results_pred = pd.concat(results_pred)\n",
    "    results_pred[\"decile\"] = g[0]\n",
    "    predictions_by_groups.append(results_pred)\n",
    "    \n",
    "predictions_by_groups = pd.concat(predictions_by_groups)\n",
    "predictions_by_groups[\"error\"] = ((predictions_by_groups[\"prediction_actual\"] - predictions_by_groups[\"prediction\"]))"
   ]
  },
  {
   "cell_type": "code",
   "execution_count": null,
   "metadata": {},
   "outputs": [],
   "source": [
    "sns.boxplot(x=\"decile\", y=\"error\", data=predictions_by_groups)"
   ]
  },
  {
   "cell_type": "code",
   "execution_count": null,
   "metadata": {},
   "outputs": [],
   "source": [
    "predictions_by_groups.groupby([\"decile\"]).apply(lambda x: mean_squared_error(x[\"prediction_actual\"],x[\"prediction\"])).plot()"
   ]
  },
  {
   "cell_type": "code",
   "execution_count": 347,
   "metadata": {},
   "outputs": [],
   "source": [
    "groups_deciles = [g[1]for g in importances_rank_med.groupby(\"decile\")]\n",
    "groups_to_test = []\n",
    "predictions_by_groups = []\n",
    "\n",
    "for i in range(0,len(groups_deciles)):\n",
    "    \n",
    "    genes_to_test = []\n",
    "    for j in range(0, i+1):\n",
    "        genes_to_test.append(groups_deciles[j])\n",
    "    genes_to_test = pd.concat(genes_to_test).index.tolist()\n",
    "    \n",
    "    forecast_rdd = joined_rdd.map(lambda x: forecast(x, \"BMI.norm\", genes_to_test, clf))\n",
    "    pred = forecast_rdd.collect()\n",
    "    results_pred = []\n",
    "    for k, p in enumerate(pred):\n",
    "        pred = p[0]\n",
    "        pred[\"imputation_set\"] = k\n",
    "        results_pred.append(pred)\n",
    "    results_pred = pd.concat(results_pred)\n",
    "    results_pred[\"decile\"] = i\n",
    "    predictions_by_groups.append(results_pred)\n",
    "    \n",
    "predictions_by_groups = pd.concat(predictions_by_groups)\n",
    "predictions_by_groups[\"error\"] = ((predictions_by_groups[\"prediction_actual\"] - predictions_by_groups[\"prediction\"]))\n"
   ]
  },
  {
   "cell_type": "code",
   "execution_count": 348,
   "metadata": {},
   "outputs": [
    {
     "data": {
      "text/plain": [
       "<matplotlib.axes._subplots.AxesSubplot at 0x7f53941e6160>"
      ]
     },
     "execution_count": 348,
     "metadata": {},
     "output_type": "execute_result"
    },
    {
     "data": {
      "image/png": "[encoded data removed]",
      "text/plain": [
       "<Figure size 432x288 with 1 Axes>"
      ]
     },
     "metadata": {},
     "output_type": "display_data"
    }
   ],
   "source": [
    "sns.boxplot(x=\"decile\", y=\"error\", data=predictions_by_groups)"
   ]
  },
  {
   "cell_type": "code",
   "execution_count": 349,
   "metadata": {},
   "outputs": [
    {
     "data": {
      "text/plain": [
       "<matplotlib.axes._subplots.AxesSubplot at 0x7f5344b67208>"
      ]
     },
     "execution_count": 349,
     "metadata": {},
     "output_type": "execute_result"
    },
    {
     "data": {
      "image/png": "[encoded data removed]",
      "text/plain": [
       "<Figure size 432x288 with 1 Axes>"
      ]
     },
     "metadata": {},
     "output_type": "display_data"
    }
   ],
   "source": [
    "predictions_by_groups.groupby([\"decile\"]).apply(lambda x: mean_squared_error(x[\"prediction_actual\"],x[\"prediction\"])).plot()"
   ]
  },
  {
   "cell_type": "code",
   "execution_count": null,
   "metadata": {},
   "outputs": [],
   "source": []
  }
 ],
 "metadata": {
  "kernelspec": {
   "display_name": "Python 3",
   "language": "python",
   "name": "python3"
  },
  "language_info": {
   "codemirror_mode": {
    "name": "ipython",
    "version": 3
   },
   "file_extension": ".py",
   "mimetype": "text/x-python",
   "name": "python",
   "nbconvert_exporter": "python",
   "pygments_lexer": "ipython3",
   "version": "3.6.5"
  }
 },
 "nbformat": 4,
 "nbformat_minor": 2
}
