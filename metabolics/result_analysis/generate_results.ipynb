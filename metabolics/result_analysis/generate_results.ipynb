{
 "cells": [
  {
   "cell_type": "code",
   "execution_count": 1,
   "metadata": {},
   "outputs": [
    {
     "name": "stdout",
     "output_type": "stream",
     "text": [
      "Using matplotlib backend: MacOSX\n"
     ]
    }
   ],
   "source": [
    "import pandas as pd \n",
    "import numpy as np\n",
    "import os\n",
    "import glob\n",
    "import matplotlib.pyplot as plt\n",
    "%matplotlib\n",
    "from scipy import stats\n",
    "import sys\n",
    "from sklearn import metrics\n",
    "import os\n",
    "import seaborn as sns\n",
    "from sklearn import cluster"
   ]
  },
  {
   "cell_type": "code",
   "execution_count": 2,
   "metadata": {},
   "outputs": [],
   "source": [
    "input_dir = sys.argv[0]\n",
    "output_dir = sys.argv[1]"
   ]
  },
  {
   "cell_type": "code",
   "execution_count": 3,
   "metadata": {},
   "outputs": [],
   "source": [
    "input_dir = \"/Users/tomi/Downloads/config/validation_prediction/export_permutation_runs\"\n",
    "output_dir =     "
   ]
  },
  {
   "cell_type": "code",
   "execution_count": 44,
   "metadata": {},
   "outputs": [],
   "source": [
    "from sklearn.metrics import mean_squared_error\n",
    "def analyse_results(input_dir, output_path):\n",
    "\n",
    "    results = [y for x in os.walk(input_dir) for y in glob.glob(os.path.join(x[0], '*predictions*'))]\n",
    "    data = load_results(results)\n",
    "    os.makedirs(output_path, exist_ok=True)\n",
    "    data.to_csv(\"{}/data_combined.csv\".format(output_path), header=True)\n",
    "    \n",
    "    \n",
    "    data['prediction_rf_lsqe'] = np.power((np.log(1+data['actual']) - np.log(1+data['prediction_rf'])),2)\n",
    "    data_mean = data.groupby([\"type_1\"]).mean().sort_values(\"prediction_rf_ape\")\n",
    "    data_indx = data.set_index([\"type_1\"])\n",
    "\n",
    "    \n",
    "    return data_indx, data_mean\n",
    "\n",
    "def load_results(results):\n",
    "    data = []\n",
    "    for f in results:\n",
    "        d = pd.read_csv(f, sep=\" \")\n",
    "        file = os.path.basename(f)\n",
    "        f = f.replace(input_dir, \"\")\n",
    "        f = f.replace(file, \"\")\n",
    "        dir_splits = f.split(\"/\")\n",
    "        type_1 = dir_splits[1]\n",
    "        type_2 = dir_splits[2]\n",
    "        d[\"type_1\"] = type_1\n",
    "        #d[\"type_2\"] = type_2\n",
    "        data.append(d)\n",
    "    data = pd.concat(data)\n",
    "    data = data.round(2)\n",
    "    return data\n",
    "\n",
    "def select_extremes(data, data_mean, number):\n",
    "    \n",
    "    best = data_mean.index.values[:number]\n",
    "    worst = data_mean.index.values[-number:]\n",
    "    show = np.concatenate([best, worst])\n",
    "\n",
    "    return data.loc[show].reset_index()\n",
    "\n",
    "def violin_plot(data_show, output_dir, col, name, ylabel='Absolute Percentage Error [%]'):\n",
    "    figure= plt.figure(figsize=[10, 7])\n",
    "    sns.set_style(\"whitegrid\")\n",
    "  \n",
    "    ax = sns.violinplot(data=data_show, x=\"type_1\", y=col,  \n",
    "                     fliersize=0, palette=sns.color_palette(\"Set1\", n_colors=8, desat=.5))\n",
    "\n",
    "    ax.yaxis.grid(color='gray', linestyle='dashed')\n",
    "    ax.xaxis.grid(color='white', linestyle='dashed')\n",
    "    plt.xlabel('Feature classes')\n",
    "    plt.ylabel(ylabel)\n",
    "    plt.tight_layout()\n",
    "    plt.title(\"Accuracy of predicting BMI\")\n",
    "    plt.savefig(\"{}/{}.pdf\".format(output_dir, name))\n",
    "    plt.xticks(rotation=90)\n",
    "\n",
    "    \n",
    "def line_plot(data_show, output_dir, col, name, ylabel='Absolute Percentage Error [%]'):\n",
    "    figure= plt.figure(figsize=[10, 7])\n",
    "    sns.set_style(\"whitegrid\")\n",
    "    dat_show_mean = data_show.groupby([\"type_1\"]).median().reset_index()\n",
    "    plt.plot(dat_show_mean[\"type_1\"], dat_show_mean[col])\n",
    "\n",
    "    plt.xlabel('Feature classes')\n",
    "    plt.ylabel(ylabel)\n",
    "    plt.tight_layout()\n",
    "    plt.title(\"Accuracy of predicting BMI\")\n",
    "    plt.xticks(rotation=90)\n",
    "    plt.savefig(\"{}/{}.pdf\".format(output_dir, name))\n",
    "    \n",
    "def boxplot(data_show, output_dir, col, name, ylabel='Absolute Percentage Error [%]'):\n",
    "    figure= plt.figure(figsize=[10, 7])\n",
    "    sns.set_style(\"whitegrid\")\n",
    "    ax = sns.boxplot(data=data_show, x=\"type_1\", y=col, palette=sns.color_palette(\"Set1\", n_colors=8, desat=.5))\n",
    "\n",
    "    ax.yaxis.grid(color='gray', linestyle='dashed')\n",
    "    ax.xaxis.grid(color='white', linestyle='dashed')\n",
    "    plt.xlabel('Feature classes')\n",
    "    plt.ylabel(ylabel)\n",
    "    plt.tight_layout()\n",
    "    plt.title(\"Accuracy of predicting BMI\")\n",
    "    plt.xticks(rotation=90)\n",
    "\n",
    "    plt.savefig(\"{}/{}.pdf\".format(output_dir, name))\n",
    "\n",
    "    "
   ]
  },
  {
   "cell_type": "code",
   "execution_count": null,
   "metadata": {},
   "outputs": [],
   "source": [
    "data_all, data_mean = analyse_results(input_dir, output_dir)\n",
    "data_show = select_extremes(data_all, data_mean, 3)\n",
    "\n",
    "data_show = data_show.replace([np.inf, -np.inf], np.nan)\n",
    "initial_number = data_show.shape[0]\n",
    "bad_values = data_show[data_show.isnull().any(axis=1)]\n",
    "bad_values.to_csv(\"{}/bad_values.csv\".format(output_dir), header=True)\n",
    "data_show = data_show.dropna(subset=['prediction_rf', 'prediction_rf_lsqe'])\n",
    "dropna_number = initial_number - data_show.shape[0]\n",
    "print(\"Dropped {} invalid values\".format(dropna_number))\n",
    "\n",
    "\n",
    "\n",
    "violin_plot(data_show, output_dir, 'prediction_rf_ape', name=\"violin_plot_APE.pdf\")\n",
    "boxplot(data_show, output_dir, 'prediction_rf_ape', name=\"boxplot_APE.pdf\")\n",
    "line_plot(data_show, output_dir, 'prediction_rf_ape', name=\"lineplot_APE.pdf\")\n",
    "\n",
    "violin_plot(data_show, output_dir, 'prediction_rf_lsqe', ylabel=\"Squared logarithmic error\", name=\"violin_plot_SLE.pdf\")\n",
    "boxplot(data_show, output_dir, 'prediction_rf_lsqe', ylabel=\"Squared logarithmic error\", name=\"boxplot_SLE.pdf\")\n",
    "line_plot(data_show, output_dir, 'prediction_rf_lsqe', ylabel=\"Squared logarithmic error\", name=\"lineplot_SLE.pdf\")\n",
    "\n"
   ]
  },
  {
   "cell_type": "code",
   "execution_count": null,
   "metadata": {},
   "outputs": [],
   "source": []
  },
  {
   "cell_type": "code",
   "execution_count": 7,
   "metadata": {},
   "outputs": [],
   "source": [
    "results = [y for x in os.walk(input_dir) for y in glob.glob(os.path.join(x[0], '*variable_importance_*'))]\n"
   ]
  },
  {
   "cell_type": "code",
   "execution_count": 8,
   "metadata": {},
   "outputs": [],
   "source": [
    "data_full = []\n",
    "for r in results:\n",
    "    data = pd.read_csv(r, sep=\" \")\n",
    "    run = r.split(\"/\")[-2]\n",
    "    data[\"run\"] = run\n",
    "    data = data.sort_values([\"IncNodePurity\"])\n",
    "    data[\"rank\"] = range(0, data.shape[0])\n",
    "    data_full.append(data)\n",
    "data_full = pd.concat(data_full)"
   ]
  },
  {
   "cell_type": "code",
   "execution_count": 9,
   "metadata": {},
   "outputs": [],
   "source": [
    "data_full_mean = data_full.groupby([\"run\",\"Variables\"]).mean().sort_values(\"rank\")"
   ]
  },
  {
   "cell_type": "code",
   "execution_count": 10,
   "metadata": {},
   "outputs": [],
   "source": [
    "results = [y for x in os.walk(input_dir) for y in glob.glob(os.path.join(x[0], '*permut_results_*'))]\n",
    "data_permutations = []\n",
    "for r in results:\n",
    "    data = pd.read_csv(r, sep=\" \")\n",
    "    run = r.split(\"/\")[-2]\n",
    "    number = r.split(\"/\")[-1]\n",
    "    number = number.split(\"_\")[-1]\n",
    "    data[\"run_id\"] = int(number)\n",
    "    data[\"type_1\"] = run\n",
    "\n",
    "    data_permutations.append(data)\n",
    "data_permutations = pd.concat(data_permutations)\n"
   ]
  },
  {
   "cell_type": "code",
   "execution_count": 45,
   "metadata": {},
   "outputs": [],
   "source": [
    "data_all_merged = pd.merge(data_all.groupby([\"type_1\", \"run_id\"]).mean().reset_index(), data_permutations, on = [\"type_1\", \"run_id\"])"
   ]
  },
  {
   "cell_type": "code",
   "execution_count": 46,
   "metadata": {},
   "outputs": [],
   "source": [
    "test = data_all_merged.groupby([\"type_1\", \"run_id\"]).apply(lambda x: (x[x[\"prediction_rf_ape\"] >= x[\"x\"]].shape[0]/10)).reset_index()\n",
    "test.columns = [\"type_1\", \"run_id\", \"p-value\"]"
   ]
  },
  {
   "cell_type": "code",
   "execution_count": 47,
   "metadata": {},
   "outputs": [
    {
     "data": {
      "image/png": "[encoded data removed]",
      "text/plain": [
       "<matplotlib.figure.Figure at 0x1155a9940>"
      ]
     },
     "metadata": {},
     "output_type": "display_data"
    }
   ],
   "source": [
    "fig = plt.figure(figsize=[10,10])\n",
    "ax = sns.boxplot(x=\"type_1\", y=\"p-value\",  data=test, palette=\"Set3\")\n",
    "plt.xticks(rotation=45)\n",
    "fig.tight_layout()\n"
   ]
  },
  {
   "cell_type": "code",
   "execution_count": null,
   "metadata": {},
   "outputs": [],
   "source": [
    "test.groupby([\"type_1\", \"run_id\"]).hist()"
   ]
  },
  {
   "cell_type": "raw",
   "metadata": {},
   "source": [
    "example = data_show[(data_show[\"type_2\"] == \"BROWN_only\") & (data_show.index == \"COMBAT\")]\n",
    "example[\"label\"][example[\"label\"]==0] = \"Control group\"\n",
    "example[\"label\"][example[\"label\"]==1] = \"Target Group\"\n",
    "\n",
    "example[\"label_4\"][example[\"label_4\"]==0] = \"underweight\"\n",
    "example[\"label_4\"][example[\"label_4\"]==1] = \"normal\"\n",
    "example[\"label_4\"][example[\"label_4\"]==2] = \"overweight\"\n",
    "example[\"label_4\"][example[\"label_4\"]==3] = \"obese\"\n",
    "\n",
    "\n",
    "sns.lmplot(data=example, x=\"actual\", y=\"prediction_rf\", hue=\"label_4\", col=\"label\" ,ci=None, x_ci=None, \n",
    "           logx=True, truncate=False)\n",
    "plt.title(\"Accuracy between patient groups\")"
   ]
  },
  {
   "cell_type": "code",
   "execution_count": 334,
   "metadata": {},
   "outputs": [
    {
     "data": {
      "text/plain": [
       "<seaborn.axisgrid.PairGrid at 0x1a96762cf8>"
      ]
     },
     "execution_count": 334,
     "metadata": {},
     "output_type": "execute_result"
    }
   ],
   "source": [
    "## import seaborn as sns\n",
    "#sns.pairplot(example[[\"type_2\",\"prediction_rf_ape\", \"actual\"]], hue=\"type_2\", size=1)"
   ]
  },
  {
   "cell_type": "code",
   "execution_count": null,
   "metadata": {
    "collapsed": true
   },
   "outputs": [],
   "source": [
    "#data[\"error\"] =  np.abs(data[\"prediction_glmnet\"] - data[\"actual\"] )/data[\"actual\"] *100\n",
    "\n",
    "#data[\"label\"] = np.digitize(data[\"actual\"],bins=[24.9], right=True)\n",
    "#data = data[data[\"label\"] != 0]\n",
    "#data[\"label_predicted\"] = np.digitize(data[\"prediction_rf\"],bins=[24.9], right=True)\n",
    "\n",
    "\n",
    "#data[\"label_3\"] = np.digitize(data[\"actual\"],bins=[24.9,  29.9], right=True)\n",
    "#data = data[data[\"label\"] != 0]\n",
    "#data[\"label_predicted_3\"] = np.digitize(data[\"prediction_rf\"],bins=[24.9,  29.9], right=True)\n",
    "\n",
    "#data[\"label_4\"] = np.digitize(data[\"actual\"],bins=[18.5, 24.9,  29.9], right=True)\n",
    "#data = data[data[\"label\"] != 0]\n",
    "#data[\"label_predicted_4\"] = np.digitize(data[\"prediction_rf\"],bins=[18.5, 24.9,  29.9], right=True)\n",
    "\n",
    "\n",
    "#underweheight = [0,18.5]\n",
    "\n",
    "#healthy = [18.5,24.9 ]\n",
    "#overweight = [24.9, 29.9]\n",
    "#obese = [30]\n",
    "\n"
   ]
  }
 ],
 "metadata": {
  "kernelspec": {
   "display_name": "Python 3",
   "language": "python",
   "name": "python3"
  },
  "language_info": {
   "codemirror_mode": {
    "name": "ipython",
    "version": 3
   },
   "file_extension": ".py",
   "mimetype": "text/x-python",
   "name": "python",
   "nbconvert_exporter": "python",
   "pygments_lexer": "ipython3",
   "version": "3.6.4"
  }
 },
 "nbformat": 4,
 "nbformat_minor": 2
}
