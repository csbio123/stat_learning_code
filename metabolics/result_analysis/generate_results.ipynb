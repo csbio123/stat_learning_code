{
 "cells": [
  {
   "cell_type": "code",
   "execution_count": 89,
   "metadata": {},
   "outputs": [
    {
     "name": "stdout",
     "output_type": "stream",
     "text": [
      "Using matplotlib backend: MacOSX\n"
     ]
    }
   ],
   "source": [
    "import pandas as pd \n",
    "import numpy as np\n",
    "import os\n",
    "import glob\n",
    "import matplotlib.pyplot as plt\n",
    "%matplotlib\n",
    "from scipy import stats\n",
    "import sys\n",
    "from sklearn import metrics\n",
    "import os\n",
    "import seaborn as sns"
   ]
  },
  {
   "cell_type": "code",
   "execution_count": 90,
   "metadata": {
    "collapsed": true
   },
   "outputs": [],
   "source": [
    "input_dir = sys.argv[0]\n",
    "output_dir = sys.argv[1]"
   ]
  },
  {
   "cell_type": "code",
   "execution_count": 91,
   "metadata": {
    "collapsed": true
   },
   "outputs": [],
   "source": [
    "input_dir = \"/Users/ti1/Downloads/config/validation_prediction/Output/COMBAT\"\n",
    "output_dir = \"/Users/ti1/Downloads/config/validation_prediction/Output/results\""
   ]
  },
  {
   "cell_type": "code",
   "execution_count": 92,
   "metadata": {
    "collapsed": true
   },
   "outputs": [],
   "source": [
    "def analyse_results(input_dir, output_path):\n",
    "\n",
    "    results = [y for x in os.walk(input_dir) for y in glob.glob(os.path.join(x[0], '*predictions*'))]\n",
    "    data = load_results(results)\n",
    "    os.makedirs(output_path, exist_ok=True)\n",
    "    data.to_csv(\"{}/data_combined.csv\".format(output_path), header=True)\n",
    "\n",
    "    data_mean = data.groupby([\"type_1\"]).mean().sort_values(\"prediction_rf_ape\")\n",
    "    data_indx = data.set_index([\"type_1\"])\n",
    "\n",
    "    \n",
    "    return data_indx, data_mean\n",
    "\n",
    "def load_results(results):\n",
    "    data = []\n",
    "    for f in results:\n",
    "        d = pd.read_csv(f, sep=\" \")\n",
    "        file = os.path.basename(f)\n",
    "        f = f.replace(input_dir, \"\")\n",
    "        f = f.replace(file, \"\")\n",
    "        dir_splits = f.split(\"/\")\n",
    "        type_1 = dir_splits[1]\n",
    "        type_2 = dir_splits[2]\n",
    "        d[\"type_1\"] = type_1\n",
    "        #d[\"type_2\"] = type_2\n",
    "        data.append(d)\n",
    "    data = pd.concat(data)\n",
    "    data = data.round(2)\n",
    "    return data\n",
    "\n",
    "def select_extremes(data, data_mean, number):\n",
    "    \n",
    "    best = data_mean.index.values[:number]\n",
    "    worst = data_mean.index.values[-number:]\n",
    "    show = np.concatenate([best, worst])\n",
    "\n",
    "    return data.loc[show].reset_index()\n",
    "\n",
    "def violin_plot(data_show, output_dir):\n",
    "    figure= plt.figure(figsize=[10, 7])\n",
    "    sns.set_style(\"whitegrid\")\n",
    "    ax = sns.violinplot(data=data_show, x=\"type_1\", y=\"prediction_rf_ape\",  \n",
    "                     fliersize=0, palette=sns.color_palette(\"Set1\", n_colors=8, desat=.5))\n",
    "\n",
    "    ax.yaxis.grid(color='gray', linestyle='dashed')\n",
    "    ax.xaxis.grid(color='white', linestyle='dashed')\n",
    "    plt.xlabel('Feature classes')\n",
    "    plt.ylabel('Absolute Percentage Error [%]')\n",
    "    plt.tight_layout()\n",
    "    plt.title(\"Accuracy of predicting BMI\")\n",
    "    plt.savefig(\"{}/violin_plot.pdf\".format(output_dir))\n",
    "    \n",
    "    \n",
    "def boxplot(data_show, output_dir):\n",
    "    figure= plt.figure(figsize=[10, 7])\n",
    "    sns.set_style(\"whitegrid\")\n",
    "    ax = sns.boxplot(data=data_show, x=\"type_1\", y=\"prediction_rf_ape\",  \n",
    "                     fliersize=0, palette=sns.color_palette(\"Set1\", n_colors=8, desat=.5))\n",
    "\n",
    "    ax.yaxis.grid(color='gray', linestyle='dashed')\n",
    "    ax.xaxis.grid(color='white', linestyle='dashed')\n",
    "    plt.xlabel('Feature classes')\n",
    "    plt.ylabel('Absolute Percentage Error [%]')\n",
    "    plt.tight_layout()\n",
    "    plt.title(\"Accuracy of predicting BMI\")\n",
    "    plt.savefig(\"{}/boxplot_plot.pdf\".format(output_dir))\n",
    "    \n",
    "    "
   ]
  },
  {
   "cell_type": "code",
   "execution_count": 68,
   "metadata": {
    "collapsed": true
   },
   "outputs": [],
   "source": [
    "data, data_mean = analyse_results(input_dir, output_dir)\n",
    "data_show = select_extremes(data, data_mean, 3)\n",
    "\n",
    "violin_plot(data_show, output_dir)\n",
    "boxplot(data_show, output_dir)"
   ]
  },
  {
   "cell_type": "code",
   "execution_count": 347,
   "metadata": {},
   "outputs": [
    {
     "name": "stderr",
     "output_type": "stream",
     "text": [
      "/Users/ti1/anaconda3/lib/python3.6/site-packages/ipykernel_launcher.py:1: SettingWithCopyWarning: \n",
      "A value is trying to be set on a copy of a slice from a DataFrame\n",
      "\n",
      "See the caveats in the documentation: http://pandas.pydata.org/pandas-docs/stable/indexing.html#indexing-view-versus-copy\n",
      "  \"\"\"Entry point for launching an IPython kernel.\n",
      "/Users/ti1/anaconda3/lib/python3.6/site-packages/pandas/core/generic.py:5233: SettingWithCopyWarning: \n",
      "A value is trying to be set on a copy of a slice from a DataFrame\n",
      "\n",
      "See the caveats in the documentation: http://pandas.pydata.org/pandas-docs/stable/indexing.html#indexing-view-versus-copy\n",
      "  self._update_inplace(new_data)\n",
      "/Users/ti1/anaconda3/lib/python3.6/site-packages/IPython/core/interactiveshell.py:2862: SettingWithCopyWarning: \n",
      "A value is trying to be set on a copy of a slice from a DataFrame\n",
      "\n",
      "See the caveats in the documentation: http://pandas.pydata.org/pandas-docs/stable/indexing.html#indexing-view-versus-copy\n",
      "  exec(code_obj, self.user_global_ns, self.user_ns)\n",
      "/Users/ti1/anaconda3/lib/python3.6/site-packages/ipykernel_launcher.py:2: SettingWithCopyWarning: \n",
      "A value is trying to be set on a copy of a slice from a DataFrame\n",
      "\n",
      "See the caveats in the documentation: http://pandas.pydata.org/pandas-docs/stable/indexing.html#indexing-view-versus-copy\n",
      "  \n",
      "/Users/ti1/anaconda3/lib/python3.6/site-packages/ipykernel_launcher.py:4: SettingWithCopyWarning: \n",
      "A value is trying to be set on a copy of a slice from a DataFrame\n",
      "\n",
      "See the caveats in the documentation: http://pandas.pydata.org/pandas-docs/stable/indexing.html#indexing-view-versus-copy\n",
      "  after removing the cwd from sys.path.\n",
      "/Users/ti1/anaconda3/lib/python3.6/site-packages/ipykernel_launcher.py:5: SettingWithCopyWarning: \n",
      "A value is trying to be set on a copy of a slice from a DataFrame\n",
      "\n",
      "See the caveats in the documentation: http://pandas.pydata.org/pandas-docs/stable/indexing.html#indexing-view-versus-copy\n",
      "  \"\"\"\n",
      "/Users/ti1/anaconda3/lib/python3.6/site-packages/ipykernel_launcher.py:6: SettingWithCopyWarning: \n",
      "A value is trying to be set on a copy of a slice from a DataFrame\n",
      "\n",
      "See the caveats in the documentation: http://pandas.pydata.org/pandas-docs/stable/indexing.html#indexing-view-versus-copy\n",
      "  \n",
      "/Users/ti1/anaconda3/lib/python3.6/site-packages/ipykernel_launcher.py:7: SettingWithCopyWarning: \n",
      "A value is trying to be set on a copy of a slice from a DataFrame\n",
      "\n",
      "See the caveats in the documentation: http://pandas.pydata.org/pandas-docs/stable/indexing.html#indexing-view-versus-copy\n",
      "  import sys\n"
     ]
    },
    {
     "data": {
      "text/plain": [
       "<matplotlib.text.Text at 0x1b074bb1d0>"
      ]
     },
     "execution_count": 347,
     "metadata": {},
     "output_type": "execute_result"
    }
   ],
   "source": [
    "example = data_show[(data_show[\"type_2\"] == \"BROWN_only\") & (data_show.index == \"COMBAT\")]\n",
    "example[\"label\"][example[\"label\"]==0] = \"Control group\"\n",
    "example[\"label\"][example[\"label\"]==1] = \"Target Group\"\n",
    "\n",
    "example[\"label_4\"][example[\"label_4\"]==0] = \"underweight\"\n",
    "example[\"label_4\"][example[\"label_4\"]==1] = \"normal\"\n",
    "example[\"label_4\"][example[\"label_4\"]==2] = \"overweight\"\n",
    "example[\"label_4\"][example[\"label_4\"]==3] = \"obese\"\n",
    "\n",
    "\n",
    "sns.lmplot(data=example, x=\"actual\", y=\"prediction_rf\", hue=\"label_4\", col=\"label\" ,ci=None, x_ci=None, \n",
    "           logx=True, truncate=False)\n",
    "plt.title(\"Accuracy between patient groups\")"
   ]
  },
  {
   "cell_type": "code",
   "execution_count": 334,
   "metadata": {},
   "outputs": [
    {
     "data": {
      "text/plain": [
       "<seaborn.axisgrid.PairGrid at 0x1a96762cf8>"
      ]
     },
     "execution_count": 334,
     "metadata": {},
     "output_type": "execute_result"
    }
   ],
   "source": [
    "## import seaborn as sns\n",
    "#sns.pairplot(example[[\"type_2\",\"prediction_rf_ape\", \"actual\"]], hue=\"type_2\", size=1)"
   ]
  },
  {
   "cell_type": "code",
   "execution_count": null,
   "metadata": {
    "collapsed": true
   },
   "outputs": [],
   "source": [
    "#data[\"error\"] =  np.abs(data[\"prediction_glmnet\"] - data[\"actual\"] )/data[\"actual\"] *100\n",
    "\n",
    "#data[\"label\"] = np.digitize(data[\"actual\"],bins=[24.9], right=True)\n",
    "#data = data[data[\"label\"] != 0]\n",
    "#data[\"label_predicted\"] = np.digitize(data[\"prediction_rf\"],bins=[24.9], right=True)\n",
    "\n",
    "\n",
    "#data[\"label_3\"] = np.digitize(data[\"actual\"],bins=[24.9,  29.9], right=True)\n",
    "#data = data[data[\"label\"] != 0]\n",
    "#data[\"label_predicted_3\"] = np.digitize(data[\"prediction_rf\"],bins=[24.9,  29.9], right=True)\n",
    "\n",
    "#data[\"label_4\"] = np.digitize(data[\"actual\"],bins=[18.5, 24.9,  29.9], right=True)\n",
    "#data = data[data[\"label\"] != 0]\n",
    "#data[\"label_predicted_4\"] = np.digitize(data[\"prediction_rf\"],bins=[18.5, 24.9,  29.9], right=True)\n",
    "\n",
    "\n",
    "#underweheight = [0,18.5]\n",
    "\n",
    "#healthy = [18.5,24.9 ]\n",
    "#overweight = [24.9, 29.9]\n",
    "#obese = [30]\n",
    "\n"
   ]
  }
 ],
 "metadata": {
  "kernelspec": {
   "display_name": "Python 3",
   "language": "python",
   "name": "python3"
  },
  "language_info": {
   "codemirror_mode": {
    "name": "ipython",
    "version": 3
   },
   "file_extension": ".py",
   "mimetype": "text/x-python",
   "name": "python",
   "nbconvert_exporter": "python",
   "pygments_lexer": "ipython3",
   "version": "3.6.2"
  }
 },
 "nbformat": 4,
 "nbformat_minor": 2
}
