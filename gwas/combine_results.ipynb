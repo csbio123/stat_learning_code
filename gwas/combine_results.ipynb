{
 "cells": [
  {
   "cell_type": "code",
   "execution_count": 36,
   "metadata": {
    "collapsed": true
   },
   "outputs": [],
   "source": [
    "import pandas as pd \n",
    "import glob\n",
    "import numpy as np\n",
    "import os\n",
    "from scipy.stats import chisquare\n",
    "import sys\n",
    "from scipy.stats import chi2_contingency\n"
   ]
  },
  {
   "cell_type": "code",
   "execution_count": 42,
   "metadata": {},
   "outputs": [],
   "source": [
    "path = '/Users/ti1/Downloads/gwas_1/'#sys.argv[0]  #\"/Users/ti1/Downloads/test/\" # sys.argv[0] \n",
    "target = '/Users/ti1/Downloads/gwas_1/gwas_88.fasta_result.csv' #sys.argv[1] #\"/Users/ti1/Downloads/query_files/gwas_88.fasta.target.fasta_result.csv\"\n",
    "\n",
    "allFiles = glob.glob(path + \"/*.csv\")\n",
    "frame = pd.DataFrame()\n",
    "list_ = []\n",
    "target = pd.read_csv(target)\n",
    "target.iloc[-1, 1] = len((target[\"protein\"].drop_duplicates()))\n",
    "target.iloc[-1, 2] = len((target[\"gene\"].drop_duplicates()))\n",
    "target = target.iloc[-1, :]\n",
    "\n",
    "for i, file_ in enumerate(allFiles):\n",
    "    df = pd.read_csv(file_,index_col=None, header=0)\n",
    "    df[\"subset\"] = os.path.basename(file_)\n",
    "    df.iloc[-1, 1] = len((df[\"protein\"].drop_duplicates()))\n",
    "    df.iloc[-1, 2] = len((df[\"gene\"].drop_duplicates()))\n",
    "    list_.append(df.iloc[-1, :])\n",
    "combined = pd.concat(list_, axis=1).transpose().set_index(\"subset\").sort_index()\n",
    "combined = combined.apply(pd.to_numeric, errors='ignore')\n",
    "chi_p_value = combined.copy()\n",
    "chi_statistic = combined.copy()"
   ]
  },
  {
   "cell_type": "code",
   "execution_count": 44,
   "metadata": {},
   "outputs": [
    {
     "name": "stderr",
     "output_type": "stream",
     "text": [
      "/Users/ti1/anaconda3/lib/python3.6/site-packages/scipy/stats/contingency.py:242: RuntimeWarning: invalid value encountered in less\n",
      "  if np.any(observed < 0):\n"
     ]
    }
   ],
   "source": [
    "for i in range(0, combined.shape[0]):\n",
    "    \n",
    "    row = combined.iloc[i, ]\n",
    "    for j in range(1, len(combined.columns)):\n",
    "        \n",
    "        obs = np.array([[row.iloc[j], row.iloc[0]], [row.iloc[j], row.iloc[0]]])\n",
    "        xi_s = (chi2_contingency(obs, correction=False))\n",
    "        chi_p_value.iloc[i, j] = xi_s[1]\n",
    "        chi_statistic.iloc[i, j] = xi_s[0]\n"
   ]
  },
  {
   "cell_type": "code",
   "execution_count": 32,
   "metadata": {
    "collapsed": true
   },
   "outputs": [],
   "source": [
    "chi_p_value.to_csv(path + \"/chi_p_value.csv\")\n",
    "chi_statistic.to_csv(path + \"/chi_statistic.csv\")"
   ]
  },
  {
   "cell_type": "code",
   "execution_count": 46,
   "metadata": {
    "collapsed": true
   },
   "outputs": [],
   "source": [
    "combined.to_csv(path + \"/summary.csv\")"
   ]
  },
  {
   "cell_type": "code",
   "execution_count": null,
   "metadata": {
    "collapsed": true
   },
   "outputs": [],
   "source": []
  }
 ],
 "metadata": {
  "kernelspec": {
   "display_name": "Python 3",
   "language": "python",
   "name": "python3"
  },
  "language_info": {
   "codemirror_mode": {
    "name": "ipython",
    "version": 3
   },
   "file_extension": ".py",
   "mimetype": "text/x-python",
   "name": "python",
   "nbconvert_exporter": "python",
   "pygments_lexer": "ipython3",
   "version": "3.6.2"
  }
 },
 "nbformat": 4,
 "nbformat_minor": 2
}
